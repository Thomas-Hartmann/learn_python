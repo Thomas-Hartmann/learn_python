{
 "cells": [
  {
   "cell_type": "markdown",
   "metadata": {},
   "source": [
    "# Learning Python\n",
    "### Concepts\n",
    "- Lists, Dictionaries, tuples, \n",
    "- Control structures\n",
    "- functions, modules\n",
    "- cli commandline run\n",
    "- \n",
    "\n",
    "\n",
    "\n",
    "- comprehensions (list, tuple, dictionary)\n",
    "\n",
    "### important modules\n",
    "- sys\n",
    "  - `sys.stdin.read().split('\\n')` reads all lines piped to the program from another program\n",
    "  - `sys.stdout.write(output_str)` write to std out."
   ]
  }
 ],
 "metadata": {
  "kernelspec": {
   "display_name": "Python 3",
   "language": "python",
   "name": "python3"
  },
  "language_info": {
   "codemirror_mode": {
    "name": "ipython",
    "version": 3
   },
   "file_extension": ".py",
   "mimetype": "text/x-python",
   "name": "python",
   "nbconvert_exporter": "python",
   "pygments_lexer": "ipython3",
   "version": "3.7.2"
  }
 },
 "nbformat": 4,
 "nbformat_minor": 2
}
