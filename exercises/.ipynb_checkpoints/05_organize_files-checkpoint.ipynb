{
 "cells": [
  {
   "cell_type": "markdown",
   "metadata": {},
   "source": [
    "# Organize files"
   ]
  },
  {
   "cell_type": "code",
   "execution_count": 9,
   "metadata": {},
   "outputs": [
    {
     "data": {
      "text/plain": [
       "'tmp/to-delete.txt'"
      ]
     },
     "execution_count": 9,
     "metadata": {},
     "output_type": "execute_result"
    }
   ],
   "source": [
    "import shutil, os\n",
    "os.chdir('/home/thomas/')\n",
    "shutil.copy('/home/thomas/to-delete.txt', '/home/thomas/tmp/') # folder must exist\n",
    "shutil.copy('to-delete.txt', 'tmp/') # folder must exist\n",
    "# shutil.copy('to-delete.txt', 'happy/hello.txt') # file must exist\n",
    " "
   ]
  },
  {
   "cell_type": "markdown",
   "metadata": {},
   "source": [
    "## copy foldertree and all subfolder and files\n"
   ]
  },
  {
   "cell_type": "code",
   "execution_count": 11,
   "metadata": {},
   "outputs": [
    {
     "data": {
      "text/plain": [
       "'/home/thomas/tmp/someplace/'"
      ]
     },
     "execution_count": 11,
     "metadata": {},
     "output_type": "execute_result"
    }
   ],
   "source": [
    "shutil.copytree('/home/thomas/tmp/tree-to-delete', '/home/thomas/tmp/someplace/') # folder must NOT exist"
   ]
  },
  {
   "cell_type": "code",
   "execution_count": 15,
   "metadata": {},
   "outputs": [
    {
     "data": {
      "text/plain": [
       "'tmp/to-delete3.txt'"
      ]
     },
     "execution_count": 15,
     "metadata": {},
     "output_type": "execute_result"
    }
   ],
   "source": [
    "# Move file\n",
    "shutil.copy('to-delete.txt', 'to-delete3.txt')\n",
    "## Move to sub folder\n",
    "shutil.move('to-delete3.txt', 'tmp/')"
   ]
  },
  {
   "cell_type": "code",
   "execution_count": 16,
   "metadata": {},
   "outputs": [
    {
     "data": {
      "text/plain": [
       "'tmp/copied-to-delete.txt'"
      ]
     },
     "execution_count": 16,
     "metadata": {},
     "output_type": "execute_result"
    }
   ],
   "source": [
    "# rename\n",
    "shutil.move('tmp/to-delete2.txt', 'tmp/copied-to-delete.txt') #change name of the file with move"
   ]
  },
  {
   "cell_type": "code",
   "execution_count": 21,
   "metadata": {},
   "outputs": [],
   "source": [
    "# Remove files and folders\n",
    "shutil.copy('tmp/to-delete3.txt','tmp/copied-to-delete.txt')\n",
    "os.unlink('tmp/copied-to-delete.txt') #delete a single file\n",
    "# os.rmdir('tmp/empty_folder') # only works with empty folder\n",
    "shutil.copytree('/home/thomas/tmp/someplace/', '/home/thomas/tmp/tree-to-delete/')\n",
    "shutil.rmtree('tmp/tree-to-delete/') # removes folder and all subfolders\n"
   ]
  },
  {
   "cell_type": "code",
   "execution_count": 22,
   "metadata": {},
   "outputs": [],
   "source": [
    "# check if folder exist otherwise create it.\n",
    "newpath = '/home/thomas/tmp/some-new-path' \n",
    "if not os.path.exists(newpath):\n",
    "    os.makedirs(newpath)"
   ]
  },
  {
   "cell_type": "code",
   "execution_count": 24,
   "metadata": {},
   "outputs": [
    {
     "name": "stdout",
     "output_type": "stream",
     "text": [
      "some-new-path\n",
      "dest\n",
      "someplace\n",
      "to-delete3.txt\n",
      "to-delete.txt\n"
     ]
    }
   ],
   "source": [
    "# loop through folder and delete all files with ending: .md\n",
    "import os\n",
    "os.chdir('/home/thomas/tmp')\n",
    "for filename in os.listdir():\n",
    "    print(filename)\n",
    "    if filename.endswith('.md'):\n",
    "        os.unlink(filename)\n",
    "        "
   ]
  },
  {
   "cell_type": "code",
   "execution_count": 26,
   "metadata": {},
   "outputs": [],
   "source": [
    "# safe delete with 'send2trash'\n",
    "import send2trash\n",
    "my_file = open('/home/thomas/tmp/my_file.txt','a')\n",
    "my_file.write('Dette er indholdet af filen: my_file.txt')\n",
    "my_file.close()\n",
    "send2trash.send2trash('/home/thomas/tmp/my_file.txt')"
   ]
  },
  {
   "cell_type": "code",
   "execution_count": 29,
   "metadata": {},
   "outputs": [
    {
     "name": "stdout",
     "output_type": "stream",
     "text": [
      "### The current folder is /home/thomas/tmp\n",
      "SUBFOLDER OF /home/thomas/tmp: some-new-path\n",
      "SUBFOLDER OF /home/thomas/tmp: dest\n",
      "SUBFOLDER OF /home/thomas/tmp: someplace\n",
      "SUBFOLDER OF /home/thomas/tmp: very\n",
      "FILE INSIDE /home/thomas/tmp: to-delete3.txt\n",
      "FILE INSIDE /home/thomas/tmp: to-delete.txt\n",
      "### The current folder is /home/thomas/tmp/some-new-path\n",
      "### The current folder is /home/thomas/tmp/dest\n",
      "### The current folder is /home/thomas/tmp/someplace\n",
      "SUBFOLDER OF /home/thomas/tmp/someplace: folder1\n",
      "### The current folder is /home/thomas/tmp/someplace/folder1\n",
      "FILE INSIDE /home/thomas/tmp/someplace/folder1: to-delete2.txt\n",
      "### The current folder is /home/thomas/tmp/very\n",
      "SUBFOLDER OF /home/thomas/tmp/very: deep\n",
      "### The current folder is /home/thomas/tmp/very/deep\n",
      "SUBFOLDER OF /home/thomas/tmp/very/deep: folder\n",
      "### The current folder is /home/thomas/tmp/very/deep/folder\n",
      "SUBFOLDER OF /home/thomas/tmp/very/deep/folder: structure\n",
      "### The current folder is /home/thomas/tmp/very/deep/folder/structure\n",
      "FILE INSIDE /home/thomas/tmp/very/deep/folder/structure: some_deeply_hidden_file.txt\n",
      "\n"
     ]
    }
   ],
   "source": [
    "# Use os.walk() to go through folders and subfolders\n",
    "## os.walk() returns 3 values: 1 current folder name, 2 list of all direct subfolders, 3 list of all files\n",
    "for folderName, subfolders, filenames in os.walk('/home/thomas/tmp'):\n",
    "    print('### The current folder is ' + folderName)\n",
    "    for subfolder in subfolders:\n",
    "        print('SUBFOLDER OF ' + folderName + ': ' + subfolder)\n",
    "    for filename in filenames:\n",
    "        print('FILE INSIDE ' + folderName + ': '+ filename)\n",
    "print('')"
   ]
  },
  {
   "cell_type": "code",
   "execution_count": 44,
   "metadata": {},
   "outputs": [
    {
     "data": {
      "text/plain": [
       "['_rels/.rels',\n",
       " 'word/fontTable.xml',\n",
       " 'word/theme/theme1.xml',\n",
       " 'word/styles.xml',\n",
       " 'word/_rels/document.xml.rels',\n",
       " 'word/settings.xml',\n",
       " 'word/media/image1.png',\n",
       " 'word/document.xml',\n",
       " 'word/numbering.xml',\n",
       " 'docProps/app.xml',\n",
       " 'docProps/core.xml',\n",
       " '[Content_Types].xml']"
      ]
     },
     "execution_count": 44,
     "metadata": {},
     "output_type": "execute_result"
    }
   ],
   "source": [
    "import zipfile, os\n",
    "os.chdir('/home/thomas/documents/sem3/general/') # move to the folder with example.zip\n",
    "exampleZip = zipfile.ZipFile('Review_howto.docx')\n",
    "exampleZip.namelist()"
   ]
  },
  {
   "cell_type": "code",
   "execution_count": 40,
   "metadata": {},
   "outputs": [
    {
     "name": "stdout",
     "output_type": "stream",
     "text": [
      "<ZipInfo filename='word/media/image1.png' compress_type=deflate file_size=15732 compress_size=14578>\n",
      "Compressed file is 1.08x smaller!\n"
     ]
    }
   ],
   "source": [
    "spamInfo = exampleZip.getinfo('word/media/image1.png')\n",
    "print(spamInfo)\n",
    "print('Compressed file is %sx smaller!' % (round(spamInfo.file_size / spamInfo\n",
    ".compress_size, 2)))\n",
    "#exampleZip.close()"
   ]
  },
  {
   "cell_type": "code",
   "execution_count": 42,
   "metadata": {},
   "outputs": [],
   "source": [
    "exampleZip.extractall('review_howto_folder') # extracts all content of zip file to the given foldername in current dir"
   ]
  },
  {
   "cell_type": "code",
   "execution_count": 53,
   "metadata": {},
   "outputs": [],
   "source": [
    "# exampleZip.extract('word/media/','media') # Cannot extract a subfolder ONLY a file\n",
    "exampleZip.extract('word/media/image1.png','media') \n",
    "exampleZip.close()"
   ]
  },
  {
   "cell_type": "code",
   "execution_count": 52,
   "metadata": {},
   "outputs": [],
   "source": [
    "# writing to a zip file\n",
    "# import zipfile\n",
    "fil = open('spam.txt','w')\n",
    "fil.write('some text here')\n",
    "fil.close()\n",
    "newZip = zipfile.ZipFile('new.zip', 'w') # use 'a' for append and 'w' to overwrite any existing zip file.\n",
    "newZip.write('spam.txt', compress_type=zipfile.ZIP_DEFLATED)\n",
    "newZip.close()"
   ]
  },
  {
   "cell_type": "code",
   "execution_count": null,
   "metadata": {},
   "outputs": [],
   "source": [
    "# "
   ]
  }
 ],
 "metadata": {
  "kernelspec": {
   "display_name": "Python 3",
   "language": "python",
   "name": "python3"
  },
  "language_info": {
   "codemirror_mode": {
    "name": "ipython",
    "version": 3
   },
   "file_extension": ".py",
   "mimetype": "text/x-python",
   "name": "python",
   "nbconvert_exporter": "python",
   "pygments_lexer": "ipython3",
   "version": "3.7.0"
  }
 },
 "nbformat": 4,
 "nbformat_minor": 2
}
